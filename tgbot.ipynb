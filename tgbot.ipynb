{
 "cells": [
  {
   "cell_type": "code",
   "execution_count": 1,
   "id": "571182fb",
   "metadata": {},
   "outputs": [
    {
     "name": "stderr",
     "output_type": "stream",
     "text": [
      "Python \n"
     ]
    },
    {
     "name": "stdout",
     "output_type": "stream",
     "text": [
      "^C\n",
      "Files removed: 13\n",
      "Requirement already satisfied: python-telegram-bot in d:\\soft\\conda\\lib\\site-packages (13.14)\n",
      "Requirement already satisfied: pytz>=2018.6 in d:\\soft\\conda\\lib\\site-packages (from python-telegram-bot) (2021.3)\n",
      "Requirement already satisfied: cachetools==4.2.2 in d:\\soft\\conda\\lib\\site-packages (from python-telegram-bot) (4.2.2)\n",
      "Requirement already satisfied: certifi in d:\\soft\\conda\\lib\\site-packages (from python-telegram-bot) (2021.10.8)\n",
      "Requirement already satisfied: APScheduler==3.6.3 in d:\\soft\\conda\\lib\\site-packages (from python-telegram-bot) (3.6.3)\n",
      "Requirement already satisfied: tornado==6.1 in c:\\users\\никита\\appdata\\roaming\\python\\python39\\site-packages (from python-telegram-bot) (6.1)\n",
      "Requirement already satisfied: six>=1.4.0 in c:\\users\\никита\\appdata\\roaming\\python\\python39\\site-packages (from APScheduler==3.6.3->python-telegram-bot) (1.15.0)\n",
      "Requirement already satisfied: tzlocal>=1.2 in d:\\soft\\conda\\lib\\site-packages (from APScheduler==3.6.3->python-telegram-bot) (4.2)\n",
      "Requirement already satisfied: setuptools>=0.7 in d:\\soft\\conda\\lib\\site-packages (from APScheduler==3.6.3->python-telegram-bot) (58.0.4)\n",
      "Requirement already satisfied: tzdata in d:\\soft\\conda\\lib\\site-packages (from tzlocal>=1.2->APScheduler==3.6.3->python-telegram-bot) (2022.2)\n",
      "Requirement already satisfied: pytz-deprecation-shim in d:\\soft\\conda\\lib\\site-packages (from tzlocal>=1.2->APScheduler==3.6.3->python-telegram-bot) (0.1.0.post0)\n"
     ]
    },
    {
     "name": "stderr",
     "output_type": "stream",
     "text": [
      "WARNING: Ignoring invalid distribution -pencv-python-headless (c:\\users\\никита\\appdata\\roaming\\python\\python39\\site-packages)\n",
      "WARNING: Ignoring invalid distribution -pencv-python-headless (c:\\users\\никита\\appdata\\roaming\\python\\python39\\site-packages)\n",
      "WARNING: Ignoring invalid distribution -pencv-python-headless (c:\\users\\никита\\appdata\\roaming\\python\\python39\\site-packages)\n",
      "WARNING: Ignoring invalid distribution -pencv-python-headless (c:\\users\\никита\\appdata\\roaming\\python\\python39\\site-packages)\n",
      "WARNING: Ignoring invalid distribution -pencv-python-headless (c:\\users\\никита\\appdata\\roaming\\python\\python39\\site-packages)\n",
      "WARNING: Ignoring invalid distribution -pencv-python-headless (c:\\users\\никита\\appdata\\roaming\\python\\python39\\site-packages)\n"
     ]
    }
   ],
   "source": [
    "!python3 -m pip install --upgrade pip\n",
    "!pip3 uninstall python-telegram-bot\n",
    "!pip3 cache purge\n",
    "!pip3 install python-telegram-bot"
   ]
  },
  {
   "cell_type": "code",
   "execution_count": 2,
   "id": "9477626d",
   "metadata": {},
   "outputs": [],
   "source": [
    "import os\n",
    "from telegram.ext  import Updater, CommandHandler, MessageHandler,Filters,  CallbackContext\n",
    "from telegram import Update\n",
    "import string\n",
    "from pymorphy2 import MorphAnalyzer\n",
    "from stop_words import get_stop_words\n",
    "import annoy\n",
    "from gensim.models import Word2Vec, FastText\n",
    "import pickle\n",
    "import numpy as np\n",
    "from tqdm import tqdm_notebook\n",
    "import pandas as pd"
   ]
  },
  {
   "cell_type": "code",
   "execution_count": 3,
   "id": "ac0f53fa",
   "metadata": {},
   "outputs": [],
   "source": [
    "# Препроцессинг\n",
    "\n",
    "morpher = MorphAnalyzer()\n",
    "sw = set(get_stop_words(\"ru\"))\n",
    "exclude = set(string.punctuation)\n",
    "\n",
    "def preprocess_txt(line):\n",
    "    spls = \"\".join(i for i in line.strip() if i not in exclude).split()\n",
    "    spls = [morpher.parse(i.lower())[0].normal_form for i in spls]\n",
    "    spls = [i for i in spls if i not in sw and i != \"\"]\n",
    "    return spls"
   ]
  },
  {
   "cell_type": "code",
   "execution_count": 4,
   "id": "782da499",
   "metadata": {},
   "outputs": [
    {
     "name": "stderr",
     "output_type": "stream",
     "text": [
      "C:\\Users\\Никита\\AppData\\Local\\Temp\\ipykernel_20324\\3049188990.py:10: TqdmDeprecationWarning: This function will be removed in tqdm==5.0.0\n",
      "Please use `tqdm.notebook.tqdm` instead of `tqdm.tqdm_notebook`\n",
      "  for line in tqdm_notebook(fin):\n"
     ]
    },
    {
     "data": {
      "application/vnd.jupyter.widget-view+json": {
       "model_id": "d0032be49b254f4ebdcadb52935efff7",
       "version_major": 2,
       "version_minor": 0
      },
      "text/plain": [
       "0it [00:00, ?it/s]"
      ]
     },
     "metadata": {},
     "output_type": "display_data"
    }
   ],
   "source": [
    "# assert False\n",
    "\n",
    "#Small preprocess of the answers\n",
    "\n",
    "question = None\n",
    "written = False\n",
    "\n",
    "with open(\"prepared_answers.txt\", \"w\", encoding=\"utf-8\") as fout:\n",
    "    with open(\"Otvety.txt\", \"r\", encoding=\"utf-8\") as fin:\n",
    "        for line in tqdm_notebook(fin):\n",
    "            if line.startswith(\"---\"):\n",
    "                written = False\n",
    "                continue\n",
    "            if not written and question is not None:\n",
    "                fout.write(question.replace(\"\\t\", \" \").strip() + \"\\t\" + line.replace(\"\\t\", \" \"))\n",
    "                written = True\n",
    "                question = None\n",
    "                continue\n",
    "            if not written:\n",
    "                question = line.strip()\n",
    "                continue"
   ]
  },
  {
   "cell_type": "code",
   "execution_count": 5,
   "id": "767abf87",
   "metadata": {},
   "outputs": [
    {
     "name": "stderr",
     "output_type": "stream",
     "text": [
      "C:\\Users\\Никита\\AppData\\Local\\Temp\\ipykernel_20324\\3639413178.py:10: TqdmDeprecationWarning: This function will be removed in tqdm==5.0.0\n",
      "Please use `tqdm.notebook.tqdm` instead of `tqdm.tqdm_notebook`\n",
      "  for line in tqdm_notebook(fin):\n"
     ]
    },
    {
     "data": {
      "application/vnd.jupyter.widget-view+json": {
       "model_id": "7e567fb511f1445c84198ce6f58363e3",
       "version_major": 2,
       "version_minor": 0
      },
      "text/plain": [
       "0it [00:00, ?it/s]"
      ]
     },
     "metadata": {},
     "output_type": "display_data"
    }
   ],
   "source": [
    "assert True\n",
    "\n",
    "# Preprocess for models fitting\n",
    "\n",
    "sentences = []\n",
    "\n",
    "c = 0\n",
    "\n",
    "with open(\"Otvety.txt\", \"r\", encoding=\"utf-8\") as fin:\n",
    "    for line in tqdm_notebook(fin):\n",
    "        spls = preprocess_txt(line)\n",
    "        sentences.append(spls)\n",
    "        c += 1\n",
    "        if c > 500000:\n",
    "            break"
   ]
  },
  {
   "cell_type": "code",
   "execution_count": 6,
   "id": "5be227ba",
   "metadata": {},
   "outputs": [],
   "source": [
    "sentences = [i for i in sentences if len(i) > 2]\n",
    "modelFT = FastText(sentences=sentences, vector_size=100, min_count=1, window=5)\n",
    "modelFT.save(\"ft_model\")"
   ]
  },
  {
   "cell_type": "code",
   "execution_count": 7,
   "id": "b71a71d9",
   "metadata": {
    "scrolled": true
   },
   "outputs": [
    {
     "name": "stderr",
     "output_type": "stream",
     "text": [
      "C:\\Users\\Никита\\AppData\\Local\\Temp\\ipykernel_20324\\4116451727.py:8: TqdmDeprecationWarning: This function will be removed in tqdm==5.0.0\n",
      "Please use `tqdm.notebook.tqdm` instead of `tqdm.tqdm_notebook`\n",
      "  for line in tqdm_notebook(f):\n"
     ]
    },
    {
     "data": {
      "application/vnd.jupyter.widget-view+json": {
       "model_id": "4a92e342d9734ba0a0ce0365c0eba87e",
       "version_major": 2,
       "version_minor": 0
      },
      "text/plain": [
       "0it [00:00, ?it/s]"
      ]
     },
     "metadata": {},
     "output_type": "display_data"
    },
    {
     "data": {
      "text/plain": [
       "True"
      ]
     },
     "execution_count": 7,
     "metadata": {},
     "output_type": "execute_result"
    }
   ],
   "source": [
    "modelFT = FastText.load(\"ft_model\")\n",
    "ft_index = annoy.AnnoyIndex(100 ,'angular')\n",
    "\n",
    "index_map = {}\n",
    "counter = 0\n",
    "\n",
    "with open(\"prepared_answers.txt\", \"r\",  encoding=\"utf-8\") as f:\n",
    "    for line in tqdm_notebook(f):\n",
    "        n_ft = 0\n",
    "        spls = line.split(\"\\t\")\n",
    "        index_map[counter] = spls[1]\n",
    "        question = preprocess_txt(spls[0])\n",
    "        vector_ft = np.zeros(100)\n",
    "        for word in question:\n",
    "            if word in modelFT.wv:\n",
    "                vector_ft += modelFT.wv[word]\n",
    "                n_ft += 1\n",
    "        if n_ft > 0:\n",
    "            vector_ft = vector_ft / n_ft\n",
    "        ft_index.add_item(counter, vector_ft)\n",
    "            \n",
    "        counter += 1\n",
    "\n",
    "ft_index.build(10)\n",
    "ft_index.save('speaker.ann')"
   ]
  },
  {
   "cell_type": "code",
   "execution_count": 8,
   "id": "1b1164a8",
   "metadata": {},
   "outputs": [
    {
     "data": {
      "text/plain": [
       "True"
      ]
     },
     "execution_count": 8,
     "metadata": {},
     "output_type": "execute_result"
    }
   ],
   "source": [
    "ft_index = annoy.AnnoyIndex(100, 'angular')\n",
    "ft_index.load('speaker.ann') "
   ]
  },
  {
   "cell_type": "code",
   "execution_count": 9,
   "id": "780206ab",
   "metadata": {},
   "outputs": [
    {
     "data": {
      "text/plain": [
       "[4627, 22586]"
      ]
     },
     "execution_count": 9,
     "metadata": {},
     "output_type": "execute_result"
    }
   ],
   "source": [
    "ft_index.get_nns_by_vector(np.zeros(100), 2)"
   ]
  },
  {
   "cell_type": "code",
   "execution_count": 10,
   "id": "8551b92c",
   "metadata": {},
   "outputs": [],
   "source": [
    "def embed_txt(txt, idfs, midf):\n",
    "    n_ft = 0\n",
    "    vector_ft = np.zeros(100)\n",
    "    for word in txt:\n",
    "        if word in modelFT.wv:\n",
    "            vector_ft += modelFT.wv[word] * 1 # idfs.get(word, midf)\n",
    "            n_ft += 1 # idfs.get(word, midf)\n",
    "    return vector_ft / n_ft"
   ]
  },
  {
   "cell_type": "code",
   "execution_count": null,
   "id": "5a0fc705",
   "metadata": {},
   "outputs": [],
   "source": []
  },
  {
   "cell_type": "code",
   "execution_count": 11,
   "id": "a1f59676",
   "metadata": {},
   "outputs": [],
   "source": [
    "# Проверка языка текста\n",
    "\n",
    "import re \n",
    "\n",
    "def is_english(text):\n",
    "    return bool(re.search(r'[a-zA-Z]', text))"
   ]
  },
  {
   "cell_type": "code",
   "execution_count": 12,
   "id": "c91166d8",
   "metadata": {},
   "outputs": [],
   "source": [
    "# Список ключевых слов для определения запроса о погоде\n",
    "\n",
    "list_for_weather = ['погода','солнечно', 'осадка', 'дождь', 'снег', 'ливень', 'зонт']\n",
    "list_for_translation = ['перевод', 'английский']"
   ]
  },
  {
   "cell_type": "code",
   "execution_count": null,
   "id": "364cf9a6",
   "metadata": {},
   "outputs": [],
   "source": []
  },
  {
   "cell_type": "code",
   "execution_count": 13,
   "id": "9cd29aa7",
   "metadata": {},
   "outputs": [],
   "source": [
    "# Проверка есть ли совпадение со списком ключевых слов\n",
    "\n",
    "def is_in_list(text, list_):\n",
    "    for word in text:\n",
    "        if word in list_:\n",
    "            return True\n",
    "            break\n",
    "    return False"
   ]
  },
  {
   "cell_type": "code",
   "execution_count": 14,
   "id": "d09f0d24",
   "metadata": {},
   "outputs": [],
   "source": [
    "import requests \n",
    "import json\n",
    "\n",
    "key = '72e6b89918dc4d5aac9191147221309' # Токен https://www.weatherapi.com/\n",
    "\n",
    "def get_weather(city):\n",
    "    url = f'http://api.weatherapi.com/v1/current.json?key={key}&q={city}&lang=ru'\n",
    "    requests.get(url)\n",
    "    response = requests.get(url)\n",
    "    json_data = json.loads(response.text)\n",
    "\n",
    "    city = json_data['location']['name']\n",
    "    time = json_data['location']['localtime'].split(' ')[1]\n",
    "    temp = json_data['current']['temp_c']\n",
    "    temp_fl = json_data['current']['feelslike_c']\n",
    "    condition = json_data['current']['condition']['text']\n",
    "    wind = json_data['current']['wind_mph']\n",
    "    uv = json_data['current']['uv']\n",
    "\n",
    "    msg = f'В городе {city} сейчас {time}. О погоде: {condition}, температура {temp} градусов, ощущается как {temp_fl} градусов, скорость ветра {wind} м/ч, уровень ультрафиолета {uv}'\n",
    "\n",
    "    return msg"
   ]
  },
  {
   "cell_type": "code",
   "execution_count": 15,
   "id": "60dc0371",
   "metadata": {},
   "outputs": [],
   "source": [
    "# Определение города\n",
    "\n",
    "import spacy\n",
    "\n",
    "nlp = spacy.load(\"ru_core_news_sm\")\n",
    "\n",
    "def location_recognition(text): \n",
    "    locs = []\n",
    "    doc = nlp(text)\n",
    "    for ent in doc.ents:\n",
    "        if ent.label_ == 'LOC':\n",
    "            locs.append(ent.text)\n",
    "    locs = [morpher.parse(i.lower())[0].normal_form for i in locs]\n",
    "    return locs"
   ]
  },
  {
   "cell_type": "code",
   "execution_count": 16,
   "id": "5bec4903",
   "metadata": {},
   "outputs": [],
   "source": [
    "def forecast(text):\n",
    "    print(text)\n",
    "    city = location_recognition(text)\n",
    "    try:\n",
    "        forecast = get_weather(city)\n",
    "    except:\n",
    "        forecast = 'Не понимаю тебя ПОГОДА'\n",
    "    \n",
    "    return forecast"
   ]
  },
  {
   "cell_type": "code",
   "execution_count": 17,
   "id": "05ede2f0",
   "metadata": {
    "scrolled": false
   },
   "outputs": [],
   "source": [
    "# Загрузка модели\n",
    "\n",
    "from transformers import FSMTForConditionalGeneration, FSMTTokenizer\n",
    "\n",
    "model_name = \"facebook/wmt19-en-ru\"\n",
    "tokenizer = FSMTTokenizer.from_pretrained(model_name)\n",
    "model = FSMTForConditionalGeneration.from_pretrained(model_name)"
   ]
  },
  {
   "cell_type": "code",
   "execution_count": 18,
   "id": "50cbd154",
   "metadata": {},
   "outputs": [],
   "source": [
    "# Функция перевода\n",
    "\n",
    "def en_ru_translation(text):\n",
    "    input_ids = tokenizer.encode(text, return_tensors=\"pt\")\n",
    "    outputs = model.generate(input_ids)\n",
    "    decoded = tokenizer.decode(outputs[0], skip_special_tokens=True)\n",
    "    \n",
    "    return decoded "
   ]
  },
  {
   "cell_type": "code",
   "execution_count": 19,
   "id": "e053aacc",
   "metadata": {},
   "outputs": [],
   "source": [
    "updater = Updater(token='5723273831:AAHIzapcEsCogKhGTrqpI7ggCbst_UUSGCw') # Токен API к Telegram\n",
    "dispatcher = updater.dispatcher"
   ]
  },
  {
   "cell_type": "code",
   "execution_count": 20,
   "id": "cc5e60d8",
   "metadata": {},
   "outputs": [],
   "source": [
    "def startCommand(update: Update, context: CallbackContext):\n",
    "    update.message.reply_text('Привет!')"
   ]
  },
  {
   "cell_type": "code",
   "execution_count": 21,
   "id": "a924e525",
   "metadata": {},
   "outputs": [],
   "source": [
    "# Определение и выполнение запроса пользователя\n",
    "\n",
    "def textMessage(update: Update, context: CallbackContext):\n",
    "    input_txt = preprocess_txt(update.message.text)\n",
    "    \n",
    "    print(input_txt)\n",
    "    \n",
    "    # Перевод с английского\n",
    "    if is_english(update.message.text) == True:\n",
    "        update.message.reply_text(en_ru_translation(update.message.text))\n",
    "    elif is_in_list(input_txt, list_for_translation) == True:\n",
    "        update.message.reply_text(\"Какое предложение вам перевести?\") \n",
    "        \n",
    "    # Прогноз погоды    \n",
    "    elif is_in_list(input_txt, list_for_weather) == True:        \n",
    "        update.message.reply_text(forecast(update.message.text))\n",
    "            \n",
    "    # Болталка\n",
    "    else: \n",
    "        vect_ft = embed_txt(input_txt, {}, 1)\n",
    "        ft_index_val, distances = ft_index.get_nns_by_vector(vect_ft, 1, include_distances=True)\n",
    "        if distances[0] > 0.35:\n",
    "            print(distances[0])\n",
    "            update.message.reply_text(\"Не понимаю тебя НЕ ПОГОДА\")\n",
    "        else:\n",
    "            update.message.reply_text(index_map[ft_index_val[0]])\n",
    "            \n",
    "    return"
   ]
  },
  {
   "cell_type": "code",
   "execution_count": 22,
   "id": "a48d8cae",
   "metadata": {},
   "outputs": [],
   "source": [
    "# on different commands - answer in Telegram\n",
    "dispatcher.add_handler(CommandHandler(\"start\", startCommand))\n",
    "dispatcher.add_handler(MessageHandler(Filters.text & ~Filters.command, textMessage))\n"
   ]
  },
  {
   "cell_type": "code",
   "execution_count": null,
   "id": "c933efe3",
   "metadata": {},
   "outputs": [
    {
     "name": "stdout",
     "output_type": "stream",
     "text": [
      "['привет']\n",
      "['перевод']\n",
      "['hello', 'my', 'name', 'is', 'nikita']\n",
      "['погода', 'ростов']\n",
      "погода ростов\n",
      "['погода', 'ростов']\n",
      "погода Ростов\n",
      "['погода', 'москва']\n",
      "погода Москва\n",
      "['дело']\n"
     ]
    }
   ],
   "source": [
    "\n",
    "# Start the Bot\n",
    "updater.start_polling()\n",
    "updater.idle()"
   ]
  },
  {
   "cell_type": "code",
   "execution_count": null,
   "id": "59348caf",
   "metadata": {},
   "outputs": [],
   "source": []
  }
 ],
 "metadata": {
  "kernelspec": {
   "display_name": "Python 3 (ipykernel)",
   "language": "python",
   "name": "python3"
  },
  "language_info": {
   "codemirror_mode": {
    "name": "ipython",
    "version": 3
   },
   "file_extension": ".py",
   "mimetype": "text/x-python",
   "name": "python",
   "nbconvert_exporter": "python",
   "pygments_lexer": "ipython3",
   "version": "3.9.7"
  }
 },
 "nbformat": 4,
 "nbformat_minor": 5
}
